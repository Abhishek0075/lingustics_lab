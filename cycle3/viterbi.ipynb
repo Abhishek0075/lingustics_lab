{
 "cells": [
  {
   "cell_type": "code",
   "execution_count": 4,
   "metadata": {},
   "outputs": [
    {
     "name": "stdout",
     "output_type": "stream",
     "text": [
      "Max Prob : 0.000625 Best Prev Tag : 1\n",
      "Max Prob : 0.0006250000000000001 Best Prev Tag : 1\n",
      "Viterbi Table : [[5.00e-02 1.25e-04 6.25e-06]\n",
      " [2.50e-03 2.50e-03 6.25e-07]\n",
      " [0.00e+00 0.00e+00 6.25e-05]\n",
      " [0.00e+00 0.00e+00 6.25e-05]]\n",
      "Backpointer Table : [[0 0 1]\n",
      " [0 0 0]\n",
      " [0 1 1]\n",
      " [0 1 1]]\n",
      "Most probable POS tag sequence: ['NN', 'VB', 'JJ']\n",
      "Probability of the sequence: 6.250000000000001e-05\n"
     ]
    }
   ],
   "source": [
    "import numpy as np\n",
    "\n",
    "# Transition Probabilities (a_ij) - Table\n",
    "transition_probs = {\n",
    "    'START': {'NN': 0.5, 'VB': 0.25, 'JJ': 0.25, 'RB': 0},\n",
    "    'NN': {'NN': 0.25, 'VB': 0.5, 'JJ': 0, 'RB': 0},\n",
    "    'VB': {'NN': 0.25, 'VB': 0, 'JJ': 0.25, 'RB': 0.25},\n",
    "    'JJ': {'NN': 0, 'VB': 0.75, 'JJ': 0.25, 'RB': 0},\n",
    "    'RB': {'NN': 0.5, 'VB': 0.25, 'JJ': 0.25, 'RB': 0}\n",
    "}\n",
    "\n",
    "# Emission Probabilities (b_ik) - Table\n",
    "emission_probs = {\n",
    "    'NN': {'time': 0.1, 'flies': 0.01, 'fast': 0.01},\n",
    "    'VB': {'time': 0.01, 'flies': 0.1, 'fast': 0.01},\n",
    "    'JJ': {'time': 0, 'flies': 0, 'fast': 0.1},\n",
    "    'RB': {'time': 0, 'flies': 0, 'fast': 0.1}\n",
    "}\n",
    "\n",
    "def viterbi(sentence, tags, transition_probs, emission_probs):\n",
    "    N = len(tags)\n",
    "    T = len(sentence)\n",
    "\n",
    "    viterbi_table = np.zeros((N, T))\n",
    "    backpointer = np.zeros((N, T), dtype=int)\n",
    "\n",
    "    for i, tag in enumerate(tags):\n",
    "        viterbi_table[i, 0] = transition_probs['START'][tag] * emission_probs[tag].get(sentence[0], 0)\n",
    "        backpointer[i, 0] = 0\n",
    "\n",
    "    for t in range(1, T):\n",
    "        for i, tag in enumerate(tags):\n",
    "            max_prob, best_prev_tag = max(\n",
    "                [(viterbi_table[j, t-1] * transition_probs[tags[j]].get(tag, 0), j) for j in range(N)],\n",
    "                key=lambda x: x[0]\n",
    "            )\n",
    "            if(i==2):\n",
    "                print(f\"Max Prob : {max_prob} Best Prev Tag : {best_prev_tag}\")\n",
    "            viterbi_table[i, t] = max_prob * emission_probs[tag].get(sentence[t], 0)\n",
    "            backpointer[i, t] = best_prev_tag\n",
    "\n",
    "    final_probs = [viterbi_table[i, T-1] for i in range(N)]\n",
    "    best_final_tag = np.argmax(final_probs)\n",
    "\n",
    "    best_path = [best_final_tag]\n",
    "    for t in range(T-1, 0, -1):\n",
    "        best_path.insert(0, backpointer[best_path[0], t])\n",
    "\n",
    "    best_tag_sequence = [tags[i] for i in best_path]\n",
    "\n",
    "    return best_tag_sequence, max(final_probs)\n",
    "\n",
    "tags = ['NN', 'VB', 'JJ', 'RB']\n",
    "sentence = ['time', 'flies', 'fast']\n",
    "best_sequence, best_prob = viterbi(sentence, tags, transition_probs, emission_probs)\n",
    "\n",
    "# Output the results\n",
    "print(\"Most probable POS tag sequence:\", best_sequence)\n",
    "print(\"Probability of the sequence:\", best_prob)\n"
   ]
  },
  {
   "cell_type": "code",
   "execution_count": 2,
   "metadata": {},
   "outputs": [],
   "source": [
    "transition_probs = {\n",
    "    'START': {'NN': 0.5, 'VB': 0.25, 'JJ': 0.25, 'RB': 0},\n",
    "    'NN': {'NN': 0.25, 'VB': 0.5, 'JJ': 0, 'RB': 0},\n",
    "    'VB': {'NN': 0.25, 'VB': 0, 'JJ': 0.25, 'RB': 0.25},\n",
    "    'JJ': {'NN': 0, 'VB': 0.75, 'JJ': 0.25, 'RB': 0},\n",
    "    'RB': {'NN': 0.5, 'VB': 0.25, 'JJ': 0.25, 'RB': 0}\n",
    "}\n",
    "\n",
    "# Emission Probabilities (b_ik) - Table\n",
    "emission_probs = {\n",
    "    'NN': {'time': 0.1, 'flies': 0.01, 'fast': 0.01},\n",
    "    'VB': {'time': 0.01, 'flies': 0.1, 'fast': 0.01},\n",
    "    'JJ': {'time': 0, 'flies': 0, 'fast': 0.1},\n",
    "    'RB': {'time': 0, 'flies': 0, 'fast': 0.1}\n",
    "}"
   ]
  },
  {
   "cell_type": "code",
   "execution_count": null,
   "metadata": {},
   "outputs": [],
   "source": []
  }
 ],
 "metadata": {
  "kernelspec": {
   "display_name": "Python 3",
   "language": "python",
   "name": "python3"
  },
  "language_info": {
   "codemirror_mode": {
    "name": "ipython",
    "version": 3
   },
   "file_extension": ".py",
   "mimetype": "text/x-python",
   "name": "python",
   "nbconvert_exporter": "python",
   "pygments_lexer": "ipython3",
   "version": "3.12.0"
  }
 },
 "nbformat": 4,
 "nbformat_minor": 2
}
