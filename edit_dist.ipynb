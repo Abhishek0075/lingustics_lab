{
 "cells": [
  {
   "cell_type": "code",
   "execution_count": 7,
   "metadata": {},
   "outputs": [
    {
     "name": "stdout",
     "output_type": "stream",
     "text": [
      "[[0 1 2 3 4 5]\n",
      " [1 0 0 0 0 0]\n",
      " [2 0 0 0 0 0]\n",
      " [3 0 0 0 0 0]\n",
      " [4 0 0 0 0 0]]\n"
     ]
    }
   ],
   "source": [
    "distance = np.zeros((4+1, 5+1), dtype=int)\n",
    "distance[0,:] = np.arange(0,5+1)\n",
    "distance[:,0] = np.arange(0,4+1)\n",
    "print(distance)"
   ]
  },
  {
   "cell_type": "code",
   "execution_count": 1,
   "metadata": {},
   "outputs": [
    {
     "data": {
      "text/plain": [
       "array([[ 0,  1,  2,  3,  4,  5,  6,  7,  8,  9],\n",
       "       [ 1,  2,  3,  4,  3,  4,  5,  6,  7,  8],\n",
       "       [ 2,  3,  4,  5,  4,  5,  6,  7,  8,  9],\n",
       "       [ 3,  4,  5,  6,  5,  6,  7,  8,  9, 10],\n",
       "       [ 4,  5,  6,  7,  6,  7,  8,  9, 10, 11],\n",
       "       [ 5,  6,  7,  8,  7,  8,  9, 10, 11, 12],\n",
       "       [ 6,  7,  8,  7,  8,  9,  8,  9, 10, 11],\n",
       "       [ 7,  6,  7,  8,  9, 10,  9,  8,  9, 10],\n",
       "       [ 8,  7,  8,  9, 10, 11, 10,  9,  8,  9],\n",
       "       [ 9,  8,  7,  8,  9, 10, 11, 10,  9,  8]])"
      ]
     },
     "execution_count": 1,
     "metadata": {},
     "output_type": "execute_result"
    }
   ],
   "source": [
    "import numpy as np\n",
    "\n",
    "def edit_distance_matrix(word1, word2):\n",
    "    # Initialize the distance matrix\n",
    "    distance = np.zeros((len(word1) + 1, len(word2) + 1), dtype=int)\n",
    "    distance[0, :] = np.arange(len(word2) + 1)\n",
    "    distance[:, 0] = np.arange(len(word1) + 1)\n",
    "\n",
    "    # Compute minimum edit distances\n",
    "    for i in range(1, len(word1) + 1):\n",
    "        for j in range(1, len(word2) + 1):\n",
    "            # Diagonal value (substitution)\n",
    "            if word1[i - 1] != word2[j - 1]:\n",
    "                diagonal_value = distance[i - 1, j - 1] + 2\n",
    "            else:\n",
    "                diagonal_value = distance[i - 1, j - 1]\n",
    "\n",
    "            # Horizontal and vertical values (insertion and deletion)\n",
    "            horizontal_value = distance[i - 1, j] + 1  # Insertion cost\n",
    "            vertical_value = distance[i, j - 1] + 1    # Deletion cost\n",
    "\n",
    "            # Minimum cost assignment\n",
    "            distance[i, j] = min(diagonal_value, horizontal_value, vertical_value)\n",
    "\n",
    "    return distance\n",
    "\n",
    "# Test with example strings\n",
    "str1 = \"execution\"\n",
    "str2 = \"intention\"\n",
    "distance = edit_distance_matrix(str1, str2)\n",
    "distance\n"
   ]
  },
  {
   "cell_type": "code",
   "execution_count": null,
   "metadata": {},
   "outputs": [
    {
     "name": "stdout",
     "output_type": "stream",
     "text": [
      "[2, 0, 0, 0, 1, 0, 0, 0, 0, 0]\n"
     ]
    }
   ],
   "source": [
    "import numpy as np\n",
    "\n",
    "def edit_distance_matrix(word1, word2):\n",
    "    # Initialize the distance and direction matrices\n",
    "    distance = np.zeros((len(word1) + 1, len(word2) + 1, 2), dtype=int)\n",
    "    distance[0, :, 0] = np.arange(len(word2) + 1)  # Initialize distances\n",
    "    distance[:, 0, 0] = np.arange(len(word1) + 1)  # Initialize distances\n",
    "    distance[0, :, 1] = 1  # Initialize directions\n",
    "    distance[:, 0, 1] = 2  # Initialize directions\n",
    "\n",
    "    # Compute minimum edit distances and directions\n",
    "    for i in range(1, len(word1) + 1):\n",
    "        for j in range(1, len(word2) + 1):\n",
    "            # Diagonal value (substitution)\n",
    "            if word1[i - 1] != word2[j - 1]:\n",
    "                diagonal_value = distance[i - 1, j - 1, 0] + 2\n",
    "            else:\n",
    "                diagonal_value = distance[i - 1, j - 1, 0]  # No cost for match\n",
    "\n",
    "            # Horizontal and vertical values (insertion and deletion)\n",
    "            horizontal_value = distance[i - 1, j, 0] + 1  # Insertion cost\n",
    "            vertical_value = distance[i, j - 1, 0] + 1    # Deletion cost\n",
    "\n",
    "            # Minimum cost assignment\n",
    "            if diagonal_value <= horizontal_value and diagonal_value <= vertical_value:\n",
    "                distance[i, j, 0] = diagonal_value\n",
    "                distance[i, j, 1] = 0  # Diagonal direction\n",
    "            elif horizontal_value <= diagonal_value and horizontal_value <= vertical_value:\n",
    "                distance[i, j, 0] = horizontal_value\n",
    "                distance[i, j, 1] = 1  # Horizontal direction\n",
    "            else:\n",
    "                distance[i, j, 0] = vertical_value\n",
    "                distance[i, j, 1] = 2  # Vertical direction\n",
    "\n",
    "    return distance\n",
    "\n",
    "\n",
    "def traverse(distance): \n",
    "    letter_order = []\n",
    "    i = distance.shape[0]-1\n",
    "    j = distance.shape[1]-1\n",
    "    while j >= 0 and i >=0:\n",
    "        while j >= 0 and i >=0:\n",
    "            if distance[i, j, 1] == 0:\n",
    "                letter_order.append(0)\n",
    "                i -= 1\n",
    "                j -= 1\n",
    "            elif distance[i, j, 1] == 1:\n",
    "                letter_order.append(1)\n",
    "                j -= 1\n",
    "            else:\n",
    "                letter_order.append(2)\n",
    "                i -= 1\n",
    "    \n",
    "    letter_order = letter_order[::-1]\n",
    "    return letter_order[1:]\n",
    "            \n",
    "# Test with example strings\n",
    "str1 = \"execution\"\n",
    "str2 = \"intention\"\n",
    "distance = edit_distance_matrix(str1, str2)\n",
    "order = traverse(distance)\n",
    "print(order)\n",
    "# [2, 2, 0, 0, 0, 1, 0, 0, 0, 0, 0]"
   ]
  },
  {
   "cell_type": "code",
   "execution_count": 70,
   "metadata": {},
   "outputs": [
    {
     "name": "stdout",
     "output_type": "stream",
     "text": [
      "[1, 1, 2, 0, 0, 0]\n"
     ]
    }
   ],
   "source": [
    "str1 = \"book\"\n",
    "str2 = \"baiok\"\n",
    "distance = edit_distance_matrix(str1, str2)\n",
    "order = traverse(distance)\n",
    "print(order)"
   ]
  },
  {
   "cell_type": "code",
   "execution_count": 55,
   "metadata": {},
   "outputs": [
    {
     "name": "stdout",
     "output_type": "stream",
     "text": [
      "9 9\n",
      "8 8\n",
      "7 7\n",
      "6 6\n",
      "5 5\n",
      "4 4\n",
      "4 3\n",
      "3 2\n",
      "2 1\n",
      "1 0\n",
      "0 0\n"
     ]
    },
    {
     "data": {
      "text/plain": [
       "[0, 0, 0, 0, 0, 1, 0, 0, 0, 2, 2]"
      ]
     },
     "execution_count": 55,
     "metadata": {},
     "output_type": "execute_result"
    }
   ],
   "source": [
    "def order(distance): \n",
    "    letter_order = []\n",
    "    i = distance.shape[0]-1\n",
    "    j = distance.shape[1]-1\n",
    "    while j >= 0 and i >=0:\n",
    "        while j >= 0 and i >=0:\n",
    "            print(i,j)\n",
    "            if distance[i, j, 1] == 0:\n",
    "                letter_order.append(0)\n",
    "                i -= 1\n",
    "                j -= 1\n",
    "            elif distance[i, j, 1] == 1:\n",
    "                letter_order.append(1)\n",
    "                j -= 1\n",
    "            else:\n",
    "                letter_order.append(2)\n",
    "                i -= 1\n",
    "                \n",
    "    return letter_order\n",
    "            \n",
    "order(distance) "
   ]
  },
  {
   "cell_type": "code",
   "execution_count": null,
   "metadata": {},
   "outputs": [
    {
     "name": "stdout",
     "output_type": "stream",
     "text": [
      "['n', 'n', 'n', 'n', 'n', '-', '-', 'n', 'n', '-', 'o', 'o', 'o', 'o', 'o', 'o', 'o', 'o', '-', '-', 'i', 'i', 'i', 'i', 'i', '-', 'i', '-', '-', '-', 't', 't', 't', 't', 't', 't', 'u', 'u', 'u', 'u', 'u', 'u', 'u', 'u', 'u', 'c', 'c', 'c', 'c', 'c', 'c', 'c', 'c', 'c', 'e', 'e', 'e', 'e', 'e', 'e', 'e', 'e', 'e', 'x', 'x', 'x', 'x', 'x', 'x', 'x', 'x', 'x', '-', '-', '-', '-', '-', 'e', 'e', 'e', 'e']\n",
      "['n', '-', '-', '-', 'n', 'e', 't', 'n', '-', 'n', 'o', '-', '-', 'n', 'e', 't', 'n', '-', 'n', 'o', 'i', '-', 'n', 'e', '-', 'n', 'i', 'n', 'o', 'i', 't', 'n', '-', 't', 'n', 'i', 'n', 'o', 'i', 't', 'n', '-', 't', 'n', 'i', 'n', 'o', 'i', 't', 'n', '-', 't', 'n', 'i', 'n', 'o', 'i', 't', 'n', 'e', 't', 'n', 'i', 'n', 'o', 'i', 't', 'n', '-', 't', 'n', 'i', 'n', 'o', 'i', 't', 'n', 'e', 't', 'n', 'i']\n"
     ]
    }
   ],
   "source": [
    "order = []\n",
    "\n",
    "str1 = \"execution\"\n",
    "str2 = \"intention\"\n",
    "for i in range(distance.shape[0]-1):\n",
    "    for j in range(distance.shape[1]-1):"
   ]
  },
  {
   "cell_type": "code",
   "execution_count": 3,
   "metadata": {},
   "outputs": [
    {
     "name": "stdout",
     "output_type": "stream",
     "text": [
      "Minimum Edit Distance: 5\n",
      "Edit Operations:\n",
      "Substitute 'i' with 'e'\n",
      "Substitute 'n' with 'x'\n",
      "Substitute 't' with 'e'\n",
      "Substitute 'e' with 'c'\n",
      "Substitute 'n' with 'u'\n",
      "\n",
      "Aligned Strings:\n",
      "i,n,t,e,n,t,i,o,n\n",
      "e,x,e,c,u,t,i,o,n\n"
     ]
    }
   ],
   "source": [
    "def min_edit_distance_with_representation(str1, str2):\n",
    "    len1, len2 = len(str1), len(str2)\n",
    "    \n",
    "    # Initialize the matrix\n",
    "    dp = [[0 for _ in range(len2 + 1)] for _ in range(len1 + 1)]\n",
    "\n",
    "    # Fill the base cases\n",
    "    for i in range(len1 + 1):\n",
    "        dp[i][0] = i\n",
    "    for j in range(len2 + 1):\n",
    "        dp[0][j] = j\n",
    "\n",
    "    # Fill the DP matrix\n",
    "    for i in range(1, len1 + 1):\n",
    "        for j in range(1, len2 + 1):\n",
    "            if str1[i - 1] == str2[j - 1]:\n",
    "                dp[i][j] = dp[i - 1][j - 1]\n",
    "            else:\n",
    "                dp[i][j] = min(dp[i - 1][j], dp[i][j - 1], dp[i - 1][j - 1]) + 1\n",
    "\n",
    "    # Traceback to get edit operations and aligned representations\n",
    "    i, j = len1, len2\n",
    "    operations = []\n",
    "    aligned_str1 = []\n",
    "    aligned_str2 = []\n",
    "\n",
    "    while i > 0 or j > 0:\n",
    "        if i > 0 and j > 0 and str1[i - 1] == str2[j - 1]:\n",
    "            aligned_str1.append(str1[i - 1])\n",
    "            aligned_str2.append(str2[j - 1])\n",
    "            i -= 1\n",
    "            j -= 1\n",
    "        elif i > 0 and j > 0 and dp[i][j] == dp[i - 1][j - 1] + 1:\n",
    "            operations.append(f\"Substitute '{str1[i - 1]}' with '{str2[j - 1]}'\")\n",
    "            aligned_str1.append(str1[i - 1])\n",
    "            aligned_str2.append(str2[j - 1])\n",
    "            i -= 1\n",
    "            j -= 1\n",
    "        elif i > 0 and dp[i][j] == dp[i - 1][j] + 1:\n",
    "            operations.append(f\"Delete '{str1[i - 1]}'\")\n",
    "            aligned_str1.append(str1[i - 1])\n",
    "            aligned_str2.append('_')\n",
    "            i -= 1\n",
    "        elif j > 0 and dp[i][j] == dp[i][j - 1] + 1:\n",
    "            operations.append(f\"Insert '{str2[j - 1]}'\")\n",
    "            aligned_str1.append('_')\n",
    "            aligned_str2.append(str2[j - 1])\n",
    "            j -= 1\n",
    "\n",
    "    # Reverse the lists to show alignment from start to end\n",
    "    aligned_str1.reverse()\n",
    "    aligned_str2.reverse()\n",
    "    operations.reverse()\n",
    "\n",
    "    return dp[len1][len2], operations, aligned_str1, aligned_str2\n",
    "\n",
    "\n",
    "\n",
    "str1 = \"intention\"\n",
    "str2 = \"execution\"\n",
    "distance, operations, aligned_str1, aligned_str2 = min_edit_distance_with_representation(str1, str2)\n",
    "\n",
    "print(f\"Minimum Edit Distance: {distance}\")\n",
    "print(\"Edit Operations:\")\n",
    "for op in operations:\n",
    "    print(op)\n",
    "\n",
    "print(\"\\nAligned Strings:\")\n",
    "print(\",\".join(aligned_str1))\n",
    "print(\",\".join(aligned_str2))"
   ]
  },
  {
   "cell_type": "code",
   "execution_count": null,
   "metadata": {},
   "outputs": [
    {
     "name": "stdout",
     "output_type": "stream",
     "text": [
      "3 1\n",
      "2 1\n",
      "1 1\n"
     ]
    }
   ],
   "source": [
    "i = len()\n",
    "while(i)\n",
    "    for j in reversed(range(3,0,-1)):\n",
    "        print(i,j)\n",
    "        break"
   ]
  }
 ],
 "metadata": {
  "kernelspec": {
   "display_name": "Python 3",
   "language": "python",
   "name": "python3"
  },
  "language_info": {
   "codemirror_mode": {
    "name": "ipython",
    "version": 3
   },
   "file_extension": ".py",
   "mimetype": "text/x-python",
   "name": "python",
   "nbconvert_exporter": "python",
   "pygments_lexer": "ipython3",
   "version": "3.12.0"
  }
 },
 "nbformat": 4,
 "nbformat_minor": 2
}
